{
 "cells": [
  {
   "cell_type": "markdown",
   "metadata": {},
   "source": [
    "# Continuous Control\n",
    "\n",
    "---\n",
    "\n",
    "You are welcome to use this coding environment to train your agent for the project.  Follow the instructions below to get started!\n",
    "\n",
    "### 1. Start the Environment\n",
    "\n",
    "Run the next code cell to install a few packages.  This line will take a few minutes to run!"
   ]
  },
  {
   "cell_type": "code",
   "execution_count": 1,
   "metadata": {},
   "outputs": [
    {
     "name": "stdout",
     "output_type": "stream",
     "text": [
      "\u001b[31mtensorflow 1.7.1 has requirement numpy>=1.13.3, but you'll have numpy 1.12.1 which is incompatible.\u001b[0m\r\n",
      "\u001b[31mipython 6.5.0 has requirement prompt-toolkit<2.0.0,>=1.0.15, but you'll have prompt-toolkit 2.0.10 which is incompatible.\u001b[0m\r\n"
     ]
    }
   ],
   "source": [
    "!pip -q install ./python"
   ]
  },
  {
   "cell_type": "markdown",
   "metadata": {},
   "source": [
    "The environments corresponding to both versions of the environment are already saved in the Workspace and can be accessed at the file paths provided below.  \n",
    "\n",
    "Please select one of the two options below for loading the environment."
   ]
  },
  {
   "cell_type": "code",
   "execution_count": 2,
   "metadata": {},
   "outputs": [
    {
     "name": "stderr",
     "output_type": "stream",
     "text": [
      "INFO:unityagents:\n",
      "'Academy' started successfully!\n",
      "Unity Academy name: Academy\n",
      "        Number of Brains: 1\n",
      "        Number of External Brains : 1\n",
      "        Lesson number : 0\n",
      "        Reset Parameters :\n",
      "\t\tgoal_speed -> 1.0\n",
      "\t\tgoal_size -> 5.0\n",
      "Unity brain name: ReacherBrain\n",
      "        Number of Visual Observations (per agent): 0\n",
      "        Vector Observation space type: continuous\n",
      "        Vector Observation space size (per agent): 33\n",
      "        Number of stacked Vector Observation: 1\n",
      "        Vector Action space type: continuous\n",
      "        Vector Action space size (per agent): 4\n",
      "        Vector Action descriptions: , , , \n"
     ]
    }
   ],
   "source": [
    "from unityagents import UnityEnvironment\n",
    "import numpy as np\n",
    "\n",
    "# select this option to load version 1 (with a single agent) of the environment\n",
    "env = UnityEnvironment(file_name='/data/Reacher_One_Linux_NoVis/Reacher_One_Linux_NoVis.x86_64')\n",
    "\n",
    "# select this option to load version 2 (with 20 agents) of the environment\n",
    "# env = UnityEnvironment(file_name='/data/Reacher_Linux_NoVis/Reacher.x86_64')"
   ]
  },
  {
   "cell_type": "markdown",
   "metadata": {},
   "source": [
    "Environments contain **_brains_** which are responsible for deciding the actions of their associated agents. Here we check for the first brain available, and set it as the default brain we will be controlling from Python."
   ]
  },
  {
   "cell_type": "code",
   "execution_count": 3,
   "metadata": {},
   "outputs": [],
   "source": [
    "# get the default brain\n",
    "brain_name = env.brain_names[0]\n",
    "brain = env.brains[brain_name]"
   ]
  },
  {
   "cell_type": "markdown",
   "metadata": {},
   "source": [
    "### 2. Examine the State and Action Spaces\n",
    "\n",
    "Run the code cell below to print some information about the environment."
   ]
  },
  {
   "cell_type": "code",
   "execution_count": 4,
   "metadata": {},
   "outputs": [
    {
     "name": "stdout",
     "output_type": "stream",
     "text": [
      "Number of agents: 1\n",
      "Size of each action: 4\n",
      "There are 1 agents. Each observes a state with length: 33\n"
     ]
    }
   ],
   "source": [
    "# reset the environment\n",
    "env_info = env.reset(train_mode=True)[brain_name]\n",
    "\n",
    "# number of agents\n",
    "num_agents = len(env_info.agents)\n",
    "print('Number of agents:', num_agents)\n",
    "\n",
    "# size of each action\n",
    "action_size = brain.vector_action_space_size\n",
    "print('Size of each action:', action_size)\n",
    "\n",
    "# examine the state space \n",
    "states = env_info.vector_observations\n",
    "state_size = states.shape[1]\n",
    "print('There are {} agents. Each observes a state with length: {}'.format(states.shape[0], state_size))\n",
    "# print('The state for the first agent looks like:', states[0])"
   ]
  },
  {
   "cell_type": "markdown",
   "metadata": {},
   "source": [
    "### 3. Take Random Actions in the Environment\n",
    "\n",
    "In the next code cell, you will learn how to use the Python API to control the agent and receive feedback from the environment.\n",
    "\n",
    "Note that **in this coding environment, you will not be able to watch the agents while they are training**, and you should set `train_mode=True` to restart the environment."
   ]
  },
  {
   "cell_type": "code",
   "execution_count": 5,
   "metadata": {},
   "outputs": [
    {
     "name": "stdout",
     "output_type": "stream",
     "text": [
      "Total score (averaged over agents) this episode: 0.6199999861419201\n"
     ]
    }
   ],
   "source": [
    "env_info = env.reset(train_mode=True)[brain_name]      # reset the environment    \n",
    "states = env_info.vector_observations                  # get the current state (for each agent)\n",
    "scores = np.zeros(num_agents)                          # initialize the score (for each agent)\n",
    "while True:\n",
    "    actions = np.random.randn(num_agents, action_size) # select an action (for each agent)\n",
    "    actions = np.clip(actions, -1, 1)                  # all actions between -1 and 1\n",
    "    env_info = env.step(actions)[brain_name]           # send all actions to tne environment\n",
    "    next_states = env_info.vector_observations         # get next state (for each agent)\n",
    "    rewards = env_info.rewards                         # get reward (for each agent)\n",
    "    dones = env_info.local_done                        # see if episode finished\n",
    "    scores += env_info.rewards                         # update the score (for each agent)\n",
    "    states = next_states                               # roll over states to next time step\n",
    "    if np.any(dones):                                  # exit loop if episode finished\n",
    "        break\n",
    "print('Total score (averaged over agents) this episode: {}'.format(np.mean(scores)))"
   ]
  },
  {
   "cell_type": "markdown",
   "metadata": {},
   "source": [
    "When finished, you can close the environment."
   ]
  },
  {
   "cell_type": "code",
   "execution_count": 6,
   "metadata": {},
   "outputs": [],
   "source": [
    "# env.close()"
   ]
  },
  {
   "cell_type": "markdown",
   "metadata": {},
   "source": [
    "### 4. It's Your Turn!\n",
    "\n",
    "Now it's your turn to train your own agent to solve the environment!  A few **important notes**:\n",
    "- When training the environment, set `train_mode=True`, so that the line for resetting the environment looks like the following:\n",
    "```python\n",
    "env_info = env.reset(train_mode=True)[brain_name]\n",
    "```\n",
    "- To structure your work, you're welcome to work directly in this Jupyter notebook, or you might like to start over with a new file!  You can see the list of files in the workspace by clicking on **_Jupyter_** in the top left corner of the notebook.\n",
    "- In this coding environment, you will not be able to watch the agents while they are training.  However, **_after training the agents_**, you can download the saved model weights to watch the agents on your own machine! "
   ]
  },
  {
   "cell_type": "code",
   "execution_count": 7,
   "metadata": {},
   "outputs": [],
   "source": [
    "import matplotlib.pyplot as plt\n",
    "%matplotlib inline\n",
    "\n",
    "import numpy as np\n",
    "import random\n",
    "import time\n",
    "import torch\n",
    "\n",
    "from collections import deque\n",
    "from ddpg_agent import Agent\n",
    "from unityagents import UnityEnvironment"
   ]
  },
  {
   "cell_type": "code",
   "execution_count": 8,
   "metadata": {},
   "outputs": [],
   "source": [
    "seed = 0"
   ]
  },
  {
   "cell_type": "code",
   "execution_count": 9,
   "metadata": {},
   "outputs": [],
   "source": [
    "# DDPG function\n",
    "\n",
    "def ddpg(n_episodes=2500, max_t=1000, print_every=10):\n",
    "    \"\"\"Deep Deterministic Policy Gradient (DDPG)\n",
    "    \n",
    "    Params\n",
    "    ======\n",
    "        n_episodes  (int)   : maximum number of training episodes\n",
    "        max_t       (int)   : maximum number of timesteps per episode\n",
    "        print_every (int)   : interval to display results\n",
    "\n",
    "    \"\"\"\n",
    "    m_scores = []                               # list of mean scores from each episode\n",
    "    scores_deque = deque(maxlen=100)            # mean scores from most recent 100 episodes\n",
    "    avg_score = []\n",
    "    \n",
    "    for i_episode in range(1, n_episodes+1):\n",
    "        env_info = env.reset(train_mode=True)[brain_name]       # reset environment\n",
    "        states = env_info.vector_observations                   # get current state for each agent      \n",
    "        scores = np.zeros(num_agents)                           # initialize score for each agent\n",
    "        agent.reset()\n",
    "        for t in range(max_t):\n",
    "            actions = agent.act(states, add_noise=True)         # select an action\n",
    "            env_info = env.step(actions)[brain_name]            # send actions to environment\n",
    "            next_states = env_info.vector_observations          # get next state\n",
    "            rewards = env_info.rewards                          # get reward\n",
    "            dones = env_info.local_done                         # see if episode has finished\n",
    "            # save experience to replay buffer, perform learning step at defined interval\n",
    "            for state, action, reward, next_state, done in zip(states, actions, rewards, next_states, dones):\n",
    "                agent.step(state, action, reward, next_state, done, t)             \n",
    "            states = next_states\n",
    "            scores += rewards        \n",
    "            if np.any(dones):                                   # exit loop when episode ends\n",
    "                break\n",
    "        m_scores.append(np.mean(scores))           # save mean score for the episode\n",
    "        scores_deque.append(m_scores[-1])         # save mean score to window\n",
    "        avg_score.append(np.mean(scores_deque))\n",
    "                \n",
    "        if i_episode % print_every == 0:\n",
    "            print('\\rEpisode {}\\tScore: {:.2f}\\tAverage Score: {:.2f}'.format(i_episode, m_scores[-1], avg_score[-1]))\n",
    "                  \n",
    "        if avg_score[-1] >= 30.00:\n",
    "            print('\\nEnvironment solved in {:d} episodes!\\tAverage Score: {:.2f}'.format(i_episode-100, avg_score[-1]))            \n",
    "            break\n",
    "            \n",
    "    return m_scores, avg_score"
   ]
  },
  {
   "cell_type": "code",
   "execution_count": 10,
   "metadata": {},
   "outputs": [
    {
     "name": "stdout",
     "output_type": "stream",
     "text": [
      "Episode 10\tScore: 0.24\tAverage Score: 0.30\n",
      "Episode 20\tScore: 0.64\tAverage Score: 0.53\n",
      "Episode 30\tScore: 3.23\tAverage Score: 0.66\n",
      "Episode 40\tScore: 1.54\tAverage Score: 0.88\n",
      "Episode 50\tScore: 1.48\tAverage Score: 1.19\n",
      "Episode 60\tScore: 1.38\tAverage Score: 1.34\n",
      "Episode 70\tScore: 4.86\tAverage Score: 1.46\n",
      "Episode 80\tScore: 3.26\tAverage Score: 1.60\n",
      "Episode 90\tScore: 5.44\tAverage Score: 1.73\n",
      "Episode 100\tScore: 3.89\tAverage Score: 1.86\n",
      "Episode 110\tScore: 2.17\tAverage Score: 2.04\n",
      "Episode 120\tScore: 1.36\tAverage Score: 2.24\n",
      "Episode 130\tScore: 3.40\tAverage Score: 2.51\n",
      "Episode 140\tScore: 5.40\tAverage Score: 2.76\n",
      "Episode 150\tScore: 5.31\tAverage Score: 2.98\n",
      "Episode 160\tScore: 5.49\tAverage Score: 3.29\n",
      "Episode 170\tScore: 4.82\tAverage Score: 3.56\n",
      "Episode 180\tScore: 4.47\tAverage Score: 3.78\n",
      "Episode 190\tScore: 7.98\tAverage Score: 4.12\n",
      "Episode 200\tScore: 5.87\tAverage Score: 4.41\n",
      "Episode 210\tScore: 7.31\tAverage Score: 4.78\n",
      "Episode 220\tScore: 6.94\tAverage Score: 5.30\n",
      "Episode 230\tScore: 4.35\tAverage Score: 5.50\n",
      "Episode 240\tScore: 4.78\tAverage Score: 5.68\n",
      "Episode 250\tScore: 8.36\tAverage Score: 5.97\n",
      "Episode 260\tScore: 11.91\tAverage Score: 6.15\n",
      "Episode 270\tScore: 4.87\tAverage Score: 6.31\n",
      "Episode 280\tScore: 10.82\tAverage Score: 6.69\n",
      "Episode 290\tScore: 6.23\tAverage Score: 6.85\n",
      "Episode 300\tScore: 7.02\tAverage Score: 7.02\n",
      "Episode 310\tScore: 7.44\tAverage Score: 7.36\n",
      "Episode 320\tScore: 14.41\tAverage Score: 7.48\n",
      "Episode 330\tScore: 8.58\tAverage Score: 7.85\n",
      "Episode 340\tScore: 13.32\tAverage Score: 8.14\n",
      "Episode 350\tScore: 8.83\tAverage Score: 8.15\n",
      "Episode 360\tScore: 7.19\tAverage Score: 8.33\n",
      "Episode 370\tScore: 8.74\tAverage Score: 8.56\n",
      "Episode 380\tScore: 11.00\tAverage Score: 8.64\n",
      "Episode 390\tScore: 11.19\tAverage Score: 8.85\n",
      "Episode 400\tScore: 8.80\tAverage Score: 9.20\n",
      "Episode 410\tScore: 12.68\tAverage Score: 9.49\n",
      "Episode 420\tScore: 15.24\tAverage Score: 9.85\n",
      "Episode 430\tScore: 11.79\tAverage Score: 10.16\n",
      "Episode 440\tScore: 16.01\tAverage Score: 10.62\n",
      "Episode 450\tScore: 15.06\tAverage Score: 11.10\n",
      "Episode 460\tScore: 28.20\tAverage Score: 11.76\n",
      "Episode 470\tScore: 9.17\tAverage Score: 12.12\n",
      "Episode 480\tScore: 16.38\tAverage Score: 12.62\n",
      "Episode 490\tScore: 15.27\tAverage Score: 12.97\n",
      "Episode 500\tScore: 12.43\tAverage Score: 13.33\n",
      "Episode 510\tScore: 14.71\tAverage Score: 13.85\n",
      "Episode 520\tScore: 14.98\tAverage Score: 14.25\n",
      "Episode 530\tScore: 19.97\tAverage Score: 14.74\n",
      "Episode 540\tScore: 13.54\tAverage Score: 15.03\n",
      "Episode 550\tScore: 20.09\tAverage Score: 15.77\n",
      "Episode 560\tScore: 19.72\tAverage Score: 16.09\n",
      "Episode 570\tScore: 22.99\tAverage Score: 16.91\n",
      "Episode 580\tScore: 23.39\tAverage Score: 17.58\n",
      "Episode 590\tScore: 18.85\tAverage Score: 18.18\n",
      "Episode 600\tScore: 19.88\tAverage Score: 18.67\n",
      "Episode 610\tScore: 21.35\tAverage Score: 18.93\n",
      "Episode 620\tScore: 19.89\tAverage Score: 19.20\n",
      "Episode 630\tScore: 24.79\tAverage Score: 19.70\n",
      "Episode 640\tScore: 18.66\tAverage Score: 20.23\n",
      "Episode 650\tScore: 20.55\tAverage Score: 20.49\n",
      "Episode 660\tScore: 24.83\tAverage Score: 21.11\n",
      "Episode 670\tScore: 26.80\tAverage Score: 21.48\n",
      "Episode 680\tScore: 27.94\tAverage Score: 21.92\n",
      "Episode 690\tScore: 29.70\tAverage Score: 22.57\n",
      "Episode 700\tScore: 28.04\tAverage Score: 23.10\n",
      "Episode 710\tScore: 24.18\tAverage Score: 23.87\n",
      "Episode 720\tScore: 30.65\tAverage Score: 24.56\n",
      "Episode 730\tScore: 32.59\tAverage Score: 25.07\n",
      "Episode 740\tScore: 26.14\tAverage Score: 25.66\n",
      "Episode 750\tScore: 28.14\tAverage Score: 26.50\n",
      "Episode 760\tScore: 35.03\tAverage Score: 27.13\n",
      "Episode 770\tScore: 37.64\tAverage Score: 27.81\n",
      "Episode 780\tScore: 28.70\tAverage Score: 28.19\n",
      "Episode 790\tScore: 29.00\tAverage Score: 28.76\n",
      "Episode 800\tScore: 33.79\tAverage Score: 29.47\n",
      "Episode 810\tScore: 27.95\tAverage Score: 29.95\n",
      "\n",
      "Environment solved in 713 episodes!\tAverage Score: 30.07\n"
     ]
    }
   ],
   "source": [
    "# run the training loop\n",
    "agent = Agent(state_size=state_size, action_size=action_size, random_seed=seed)\n",
    "scores, avgs = ddpg()"
   ]
  },
  {
   "cell_type": "code",
   "execution_count": 13,
   "metadata": {},
   "outputs": [
    {
     "data": {
      "image/png": "[encoded data removed]",
      "text/plain": [
       "<matplotlib.figure.Figure at 0x7f9f2bef3438>"
      ]
     },
     "metadata": {
      "needs_background": "light"
     },
     "output_type": "display_data"
    }
   ],
   "source": [
    "# plot the scores\n",
    "fig = plt.figure()\n",
    "ax = fig.add_subplot(111)\n",
    "plt.plot(np.arange(len(scores)), scores, label='DDPG')\n",
    "plt.plot(np.arange(len(scores)), avgs, c='r', label='Average Score')\n",
    "plt.ylabel('Score')\n",
    "plt.xlabel('Episode #')\n",
    "plt.legend(loc='upper left');\n",
    "plt.show()"
   ]
  },
  {
   "cell_type": "code",
   "execution_count": null,
   "metadata": {},
   "outputs": [],
   "source": [
    "env.close()"
   ]
  },
  {
   "cell_type": "code",
   "execution_count": null,
   "metadata": {},
   "outputs": [],
   "source": []
  }
 ],
 "metadata": {
  "kernelspec": {
   "display_name": "Python 3",
   "language": "python",
   "name": "python3"
  },
  "language_info": {
   "codemirror_mode": {
    "name": "ipython",
    "version": 3
   },
   "file_extension": ".py",
   "mimetype": "text/x-python",
   "name": "python",
   "nbconvert_exporter": "python",
   "pygments_lexer": "ipython3",
   "version": "3.6.3"
  }
 },
 "nbformat": 4,
 "nbformat_minor": 2
}
